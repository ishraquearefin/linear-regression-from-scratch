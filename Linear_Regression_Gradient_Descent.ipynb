{
 "cells": [
  {
   "cell_type": "markdown",
   "id": "71741bca",
   "metadata": {},
   "source": [
    "# import all the necessary library"
   ]
  },
  {
   "cell_type": "code",
   "execution_count": 58,
   "id": "5a682891",
   "metadata": {},
   "outputs": [],
   "source": [
    "import numpy as np\n",
    "import math\n",
    "import matplotlib.pyplot as plt\n"
   ]
  },
  {
   "cell_type": "code",
   "execution_count": 3,
   "id": "4e04d78c",
   "metadata": {},
   "outputs": [],
   "source": [
    "x_train=np.array([1.0,2.0])\n",
    "y_train=np.array([300.0,500.0])"
   ]
  },
  {
   "cell_type": "markdown",
   "id": "4c8e1056",
   "metadata": {},
   "source": [
    "# Compute the cost for linear regression"
   ]
  },
  {
   "cell_type": "code",
   "execution_count": 42,
   "id": "dd6e313e",
   "metadata": {},
   "outputs": [],
   "source": [
    "def compute_cost(x,y,w,b) :\n",
    "    m = x.shape[0]\n",
    "    cost=0;\n",
    "    \n",
    "    for i in range(m) :\n",
    "        cost=cost+(w*x[i]+b-y[i])**2\n",
    "        \n",
    "    total_cost=cost*1/(2*m)\n",
    " \n",
    "    return total_cost"
   ]
  },
  {
   "cell_type": "code",
   "execution_count": 24,
   "id": "a709929f",
   "metadata": {},
   "outputs": [
    {
     "name": "stdout",
     "output_type": "stream",
     "text": [
      "71125.0\n"
     ]
    },
    {
     "data": {
      "text/plain": [
       "71125.0"
      ]
     },
     "execution_count": 24,
     "metadata": {},
     "output_type": "execute_result"
    }
   ],
   "source": [
    "compute_cost(x_train,y_train,10,20)"
   ]
  },
  {
   "cell_type": "markdown",
   "id": "5441eccd",
   "metadata": {},
   "source": [
    "# Compute w and b with gradient descent"
   ]
  },
  {
   "cell_type": "code",
   "execution_count": 39,
   "id": "ac73d41b",
   "metadata": {},
   "outputs": [],
   "source": [
    "def compute_gradient(x,y,w,b) :\n",
    "    m=x.shape[0]\n",
    "    dw =0;\n",
    "    db=0;\n",
    "    \n",
    "    for i in range(m) :\n",
    "        dw = dw+(w*x[i]+b-y[i])*x[i]\n",
    "        db = db+(w*x[i]+b-y[i])\n",
    "        \n",
    "    \n",
    "        \n",
    "    return dw/m,db/m\n",
    "        \n",
    "    \n",
    "    "
   ]
  },
  {
   "cell_type": "code",
   "execution_count": 26,
   "id": "00513e5b",
   "metadata": {},
   "outputs": [
    {
     "name": "stdout",
     "output_type": "stream",
     "text": [
      "value of dw  -610.0\n",
      "value of db  -375.0\n"
     ]
    },
    {
     "data": {
      "text/plain": [
       "(-610.0, -375.0)"
      ]
     },
     "execution_count": 26,
     "metadata": {},
     "output_type": "execute_result"
    }
   ],
   "source": [
    "compute_gradient(x_train,y_train,10,10)"
   ]
  },
  {
   "cell_type": "markdown",
   "id": "5347799c",
   "metadata": {},
   "source": [
    " # Calculate gradient function with updated w and b"
   ]
  },
  {
   "cell_type": "code",
   "execution_count": 43,
   "id": "9aa987bd",
   "metadata": {},
   "outputs": [],
   "source": [
    "def gradient_descent(x,y,w_in,b_in,alpha,cost_function,gradient_function,iteration) :\n",
    "    w=w_in\n",
    "    b=b_in\n",
    "    history=[]\n",
    "    cost = []\n",
    "    \n",
    "    for i in range(iteration) :\n",
    "        dw,db =gradient_function(x,y,w,b)\n",
    "        w = w - alpha * dw\n",
    "        b = b - alpha * db\n",
    "        cost.append(cost_function(x,y,w,b))\n",
    "        history.append([w,b])\n",
    "        if i% math.ceil(iteration/10) == 0:\n",
    "            print(f\"Iteration {i:4}: Cost {cost[-1]:0.2e} \",\n",
    "                  f\"dj_dw: {dw: 0.3e}, dj_db: {db: 0.3e}  \",\n",
    "                  f\"w: {w: 0.3e}, b:{b: 0.5e}\")\n",
    "        \n",
    "    \n",
    "    return w,b,history,cost\n",
    "        \n",
    "        "
   ]
  },
  {
   "cell_type": "code",
   "execution_count": 46,
   "id": "8e3dc182",
   "metadata": {},
   "outputs": [
    {
     "name": "stdout",
     "output_type": "stream",
     "text": [
      "Iteration    0: Cost 7.93e+04  dj_dw: -6.500e+02, dj_db: -4.000e+02   w:  6.500e+00, b: 4.00000e+00\n",
      "Iteration 1000: Cost 3.41e+00  dj_dw: -3.712e-01, dj_db:  6.007e-01   w:  1.949e+02, b: 1.08228e+02\n",
      "Iteration 2000: Cost 7.93e-01  dj_dw: -1.789e-01, dj_db:  2.895e-01   w:  1.975e+02, b: 1.03966e+02\n",
      "Iteration 3000: Cost 1.84e-01  dj_dw: -8.625e-02, dj_db:  1.396e-01   w:  1.988e+02, b: 1.01912e+02\n",
      "Iteration 4000: Cost 4.28e-02  dj_dw: -4.158e-02, dj_db:  6.727e-02   w:  1.994e+02, b: 1.00922e+02\n",
      "Iteration 5000: Cost 9.95e-03  dj_dw: -2.004e-02, dj_db:  3.243e-02   w:  1.997e+02, b: 1.00444e+02\n",
      "Iteration 6000: Cost 2.31e-03  dj_dw: -9.660e-03, dj_db:  1.563e-02   w:  1.999e+02, b: 1.00214e+02\n",
      "Iteration 7000: Cost 5.37e-04  dj_dw: -4.657e-03, dj_db:  7.535e-03   w:  1.999e+02, b: 1.00103e+02\n",
      "Iteration 8000: Cost 1.25e-04  dj_dw: -2.245e-03, dj_db:  3.632e-03   w:  2.000e+02, b: 1.00050e+02\n",
      "Iteration 9000: Cost 2.90e-05  dj_dw: -1.082e-03, dj_db:  1.751e-03   w:  2.000e+02, b: 1.00024e+02\n",
      "final value of w and b is (199.9929,100.0116)\n"
     ]
    }
   ],
   "source": [
    "w,b,history,cost=gradient_descent(x_train,y_train,0,0,1.0e-2,compute_cost,compute_gradient,10000)\n",
    "print(f\"final value of w and b is ({w:8.4f},{b:8.4f})\")"
   ]
  },
  {
   "cell_type": "code",
   "execution_count": 49,
   "id": "d8718575",
   "metadata": {},
   "outputs": [],
   "source": [
    "def compute_linear_regression(x,w,b) :\n",
    "    m = x.shape[0]\n",
    "    \n",
    "    for i in range(m) :\n",
    "        predict = w*x[i]+b\n",
    "        print(f\"predicted value for {x[i]} is \", predict)\n",
    "    "
   ]
  },
  {
   "cell_type": "code",
   "execution_count": 51,
   "id": "d77cfc41",
   "metadata": {},
   "outputs": [
    {
     "name": "stdout",
     "output_type": "stream",
     "text": [
      "predicted value for 1.2 is  340.00298862894317\n",
      "predicted value for 2.0 is  499.9972692299973\n"
     ]
    }
   ],
   "source": [
    "compute_linear_regression(np.array([1.2,2.0]),w,b)"
   ]
  },
  {
   "cell_type": "code",
   "execution_count": 56,
   "id": "ff7c39df",
   "metadata": {},
   "outputs": [
    {
     "data": {
      "image/png": "[encoded data removed]",
      "text/plain": [
       "<Figure size 1200x400 with 2 Axes>"
      ]
     },
     "metadata": {},
     "output_type": "display_data"
    }
   ],
   "source": [
    "# plot cost versus iteration  \n",
    "fig, (ax1, ax2) = plt.subplots(1, 2, constrained_layout=True, figsize=(12,4))\n",
    "ax1.plot(history[:100])\n",
    "ax2.plot(1000 + np.arange(len(history[1000:])),history[1000:])\n",
    "ax1.set_title(\"Cost vs. iteration(start)\");  ax2.set_title(\"Cost vs. iteration (end)\")\n",
    "ax1.set_ylabel('Cost')            ;  ax2.set_ylabel('Cost') \n",
    "ax1.set_xlabel('iteration step')  ;  ax2.set_xlabel('iteration step') \n",
    "plt.show()"
   ]
  },
  {
   "cell_type": "code",
   "execution_count": null,
   "id": "1f2ee87f",
   "metadata": {},
   "outputs": [],
   "source": []
  }
 ],
 "metadata": {
  "kernelspec": {
   "display_name": "Python 3 (ipykernel)",
   "language": "python",
   "name": "python3"
  },
  "language_info": {
   "codemirror_mode": {
    "name": "ipython",
    "version": 3
   },
   "file_extension": ".py",
   "mimetype": "text/x-python",
   "name": "python",
   "nbconvert_exporter": "python",
   "pygments_lexer": "ipython3",
   "version": "3.10.9"
  }
 },
 "nbformat": 4,
 "nbformat_minor": 5
}
